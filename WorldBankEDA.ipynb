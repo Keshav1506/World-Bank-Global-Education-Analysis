{
  "nbformat": 4,
  "nbformat_minor": 0,
  "metadata": {
    "colab": {
      "name": "WorldBankEDA.ipynb",
      "provenance": [],
      "collapsed_sections": [],
      "toc_visible": true,
      "include_colab_link": true
    },
    "kernelspec": {
      "name": "python3",
      "display_name": "Python 3"
    },
    "language_info": {
      "name": "python"
    }
  },
  "cells": [
    {
      "cell_type": "markdown",
      "metadata": {
        "id": "view-in-github",
        "colab_type": "text"
      },
      "source": [
        "<a href=\"https://colab.research.google.com/github/Keshav1506/World-Bank-Global-Education-Analysis/blob/main/WorldBankEDA.ipynb\" target=\"_parent\"><img src=\"https://colab.research.google.com/assets/colab-badge.svg\" alt=\"Open In Colab\"/></a>"
      ]
    },
    {
      "cell_type": "markdown",
      "source": [
        "#**<u>World Bank Global Education Analysis</u>**\n",
        "\n",
        "The World Bank EdStats All Indicator Query holds over 4,000 internationally comparable indicators that describe education access, progression, completion, literacy, teachers, population, and expenditures.The indicators cover the education cycle from pre-primary to vocational and tertiary education and also holds learning outcome data from international and regional learning assessments (e.g. PISA, TIMSS, PIRLS), equity data from household surveys, and projection/attainment data."
      ],
      "metadata": {
        "id": "Fn5wglIE7CkT"
      }
    },
    {
      "cell_type": "markdown",
      "source": [
        "*In this project we are going to analyze the World Bank EdStats Data in order to find out valuable insights*"
      ],
      "metadata": {
        "id": "ANOpTYwikMTy"
      }
    },
    {
      "cell_type": "markdown",
      "source": [
        "###**The following indicators have been chosen for analysis:-**\n",
        "\n",
        "**Early Childhood Education**\n",
        "* Enrolment in early childhood education, both sexes (number) -**UIS.E.0.T**\n",
        "* Percentage of enrolment in pre-primary education in private institutions (%) - **SE.PRE.PRIV.ZS**\n",
        "\n",
        "**Expenditures**\n",
        "\n",
        "* Government expenditure on education as % of GDP (%) - **SE.XPD.TOTL.GD.ZS** \n",
        "* Expenditure on education as % of total government expenditure (%) **SE.XPD.TOTL.GB.ZS**\n",
        "\n",
        "**Primary**\n",
        "\n",
        "* Completion rate, primary education, both sexes (%) - **HH.DHS.PCR**\n",
        "\n",
        "**Literacy**\n",
        "\n",
        "* Adult illiterate population, 15+ years, both sexes (number) - **UIS.LP.Ag15t99**\n",
        "\n",
        "**Population**\n",
        "* School age population, pre-primary education, both sexes (number)Education Equality - **SP.PRE.TOTL.IN**\n",
        "* School age population, primary education, both sexes (number) - **SP.PRM.TOTL.IN**\n",
        "* School age population, secondary education, both sexes (number) - **SP.SEC.TOTL.IN**\n",
        "* School age population, tertiary education, both sexes (number) - **SP.TER.TOTL.IN**"
      ],
      "metadata": {
        "id": "Q5SWwL5zkMiW"
      }
    },
    {
      "cell_type": "markdown",
      "source": [
        "###**Also, Following Countries have been selected for Analysis:-**\n",
        "* **India->** IND\n",
        "* **United States->** USA\n",
        "* **United Kingdom->** GBR\n",
        "* **Australia->** AUS\n",
        "* **Germany->** DEU\n",
        "* **South Africa->** ZAF\n",
        "* **Canada->** CAN\n",
        "* **Japan->** JPN\n",
        "* **Sri Lanka->** LKA"
      ],
      "metadata": {
        "id": "7DnzxcIMvCEy"
      }
    },
    {
      "cell_type": "code",
      "source": [
        "# List of selected indicators for analysis\n",
        "Indicators = [\"UIS.E.0.T\", \"SE.PRE.PRIV.ZS\",\n",
        "              \"SE.XPD.TOTL.GD.ZS\", \"SE.XPD.TOTL.GB.ZS\",\n",
        "              \"HH.DHS.PCR\", \n",
        "              \"UIS.LP.Ag15t99\",\n",
        "              \"SP.PRE.TOTL.IN\",\"SP.PRM.TOTL.IN\", \"SP.SEC.TOTL.IN\", \"SP.TER.TOTL.IN\"]\n",
        "print(len(Indicators))\n",
        "\n",
        "# List of countries that have been selected for analysis.\n",
        "Countries = [\"India\", \"United States\", \"United Kingdom\", \"Australia\", \"Germany\", \n",
        "             \"South Africa\", \"Canada\", \"Japan\", \"Sri Lanka\"]\n",
        "len(Countries)"
      ],
      "metadata": {
        "colab": {
          "base_uri": "https://localhost:8080/"
        },
        "id": "7MYTx08guuBV",
        "outputId": "8753e11e-0cf1-4238-eed5-b1119363fbb5"
      },
      "execution_count": 2,
      "outputs": [
        {
          "output_type": "stream",
          "name": "stdout",
          "text": [
            "10\n"
          ]
        },
        {
          "output_type": "execute_result",
          "data": {
            "text/plain": [
              "9"
            ]
          },
          "metadata": {},
          "execution_count": 2
        }
      ]
    },
    {
      "cell_type": "markdown",
      "source": [
        "Now, The first step would be to mount the drive in order to extract the Datasets present in the Drive folder."
      ],
      "metadata": {
        "id": "k5LaDffA8cr6"
      }
    },
    {
      "cell_type": "code",
      "source": [
        "# Mounting the Google Drive to access data.\n",
        "from google.colab import drive\n",
        "drive.mount('/content/drive')"
      ],
      "metadata": {
        "id": "t22pPsPz0ABo",
        "colab": {
          "base_uri": "https://localhost:8080/"
        },
        "outputId": "68f90206-1f04-4860-c0b1-148a20c26d10"
      },
      "execution_count": 3,
      "outputs": [
        {
          "output_type": "stream",
          "name": "stdout",
          "text": [
            "Mounted at /content/drive\n"
          ]
        }
      ]
    },
    {
      "cell_type": "markdown",
      "source": [
        "**Importing Necessary Modules and Libraries**\n",
        "\n",
        "We are importing following libraries for their respective applications:\n",
        "\n",
        "\n",
        "*   Pandas:- Pandas is used to analyze data. It has functions for analyzing, cleaning, exploring, and manipulating data.\n",
        "*   Matplotlib:- Matplotlib is a graph plotting library in python that serves as a visualization utility. Most of the Matplotlib utilities lies under the pyplot submodule.\n",
        "\n"
      ],
      "metadata": {
        "id": "99-X8rNsjATJ"
      }
    },
    {
      "cell_type": "code",
      "source": [
        "# Importing packages like pandas, matplotlib and math for analysis, visualization and arithematical operations.\n",
        "import pandas as pd\n",
        "import matplotlib.pyplot as plt\n",
        "%matplotlib inline"
      ],
      "metadata": {
        "id": "2jnxw50lTWPa"
      },
      "execution_count": 4,
      "outputs": []
    },
    {
      "cell_type": "markdown",
      "source": [
        "###**Loading and Discovering Data**\n",
        "\n",
        "Now, we need to load our data from the external source, which in this case is uploaded to the drive. Also we would try to spot the nature and properties of the data that we have. The data is divided into 5 different CSV files, each containing the information as follows:\n",
        "\n",
        "\n",
        "1.   **EdStatsData**:- This file contains Education Statistics data (from year 1970 to 2100) of all the countries that are World Bank members and this data is dependent on various indicators that resembles various factors that affect the overall Education growth and development of the country. These indicators can be access, availabilty, teachers, expenditures, population, lieracy, assessments etc. "
      ],
      "metadata": {
        "id": "x7vMhL3bi-3O"
      }
    },
    {
      "cell_type": "code",
      "source": [
        "# The variable Data_path contains the path of dataset stored in drive. \n",
        "# This path is common for all files so this variable can be used multiple times to load respective files.\n",
        "\n",
        "Data_path = \"/content/drive/MyDrive/Colab Notebooks/Almabetter/Capstone Projects/World Bank Global Education Analysis/data/\"\n",
        "\n",
        "# Importing EdStatsData File.\n",
        "EdStatsData = pd.read_csv(Data_path + \"EdStatsData.csv\")\n",
        "# EdStatsData.head(3)\n",
        "EdStatsData.shape"
      ],
      "metadata": {
        "id": "PYMUo8WZz_fi",
        "colab": {
          "base_uri": "https://localhost:8080/"
        },
        "outputId": "afd9a35c-8892-42b1-fe02-b10cb96df964"
      },
      "execution_count": 5,
      "outputs": [
        {
          "output_type": "execute_result",
          "data": {
            "text/plain": [
              "(886930, 70)"
            ]
          },
          "metadata": {},
          "execution_count": 5
        }
      ]
    },
    {
      "cell_type": "code",
      "source": [
        "# Using the describe function to analyze the nature and paradigm of EdStatsData.\n",
        "EdStatsData.describe()"
      ],
      "metadata": {
        "colab": {
          "base_uri": "https://localhost:8080/",
          "height": 428
        },
        "id": "69S_o4qOC6Wl",
        "outputId": "ef3da4a1-1494-4434-b0cb-92244ce4caf1"
      },
      "execution_count": 6,
      "outputs": [
        {
          "output_type": "execute_result",
          "data": {
            "text/plain": [
              "               1970          1971          1972          1973          1974  \\\n",
              "count  7.228800e+04  3.553700e+04  3.561900e+04  3.554500e+04  3.573000e+04   \n",
              "mean   1.974772e+09  4.253638e+09  4.592365e+09  5.105006e+09  5.401493e+09   \n",
              "std    1.211687e+11  1.804814e+11  1.914083e+11  2.059170e+11  2.112150e+11   \n",
              "min   -1.435564e+00 -1.594625e+00 -3.056522e+00 -4.032582e+00 -4.213563e+00   \n",
              "25%    8.900000e-01  8.853210e+00  9.240920e+00  9.595200e+00  9.861595e+00   \n",
              "50%    6.317724e+00  6.316240e+01  6.655139e+01  6.969595e+01  7.087760e+01   \n",
              "75%    6.251250e+01  5.655200e+04  5.863650e+04  6.202900e+04  6.383675e+04   \n",
              "max    1.903929e+13  1.986457e+13  2.100916e+13  2.238367e+13  2.282991e+13   \n",
              "\n",
              "               1975          1976          1977          1978          1979  \\\n",
              "count  8.730600e+04  3.748300e+04  3.757400e+04  3.757600e+04  3.680900e+04   \n",
              "mean   2.314288e+09  5.731808e+09  6.124437e+09  6.671489e+09  7.436724e+09   \n",
              "std    1.375059e+11  2.215546e+11  2.325489e+11  2.473986e+11  2.660957e+11   \n",
              "min   -3.658569e+00 -2.950945e+00 -3.174870e+00 -3.558749e+00 -2.973612e+00   \n",
              "25%    1.400000e+00  9.312615e+00  9.519913e+00  1.000000e+01  1.000000e+01   \n",
              "50%    9.677420e+00  7.101590e+01  7.133326e+01  7.290512e+01  7.510173e+01   \n",
              "75%    7.854163e+01  5.682800e+04  5.739175e+04  5.940425e+04  6.411500e+04   \n",
              "max    2.300634e+13  2.424128e+13  2.521383e+13  2.622101e+13  2.730873e+13   \n",
              "\n",
              "       ...          2060          2065          2070          2075  \\\n",
              "count  ...  5.143600e+04  5.143600e+04  5.143600e+04  5.143600e+04   \n",
              "mean   ...  7.224868e+02  7.271290e+02  7.283779e+02  7.266484e+02   \n",
              "std    ...  2.215845e+04  2.287990e+04  2.352338e+04  2.408149e+04   \n",
              "min    ... -1.630000e+00 -1.440000e+00 -1.260000e+00 -1.090000e+00   \n",
              "25%    ...  3.000000e-02  3.000000e-02  2.000000e-02  2.000000e-02   \n",
              "50%    ...  2.300000e-01  2.300000e-01  2.300000e-01  2.300000e-01   \n",
              "75%    ...  7.505000e+00  7.500000e+00  7.300000e+00  7.100000e+00   \n",
              "max    ...  2.951569e+06  3.070879e+06  3.169711e+06  3.246239e+06   \n",
              "\n",
              "               2080          2085          2090          2095          2100  \\\n",
              "count  5.143600e+04  5.143600e+04  5.143600e+04  5.143600e+04  5.143600e+04   \n",
              "mean   7.228327e+02  7.176899e+02  7.113072e+02  7.034274e+02  6.940296e+02   \n",
              "std    2.455897e+04  2.496587e+04  2.530183e+04  2.556069e+04  2.574189e+04   \n",
              "min   -9.200000e-01 -7.800000e-01 -6.500000e-01 -5.500000e-01 -4.500000e-01   \n",
              "25%    1.000000e-02  1.000000e-02  1.000000e-02  1.000000e-02  1.000000e-02   \n",
              "50%    2.300000e-01  2.300000e-01  2.300000e-01  2.300000e-01  2.200000e-01   \n",
              "75%    6.722500e+00  6.080000e+00  5.462500e+00  4.680000e+00  4.032500e+00   \n",
              "max    3.301586e+06  3.337871e+06  3.354746e+06  3.351887e+06  3.330484e+06   \n",
              "\n",
              "       Unnamed: 69  \n",
              "count          0.0  \n",
              "mean           NaN  \n",
              "std            NaN  \n",
              "min            NaN  \n",
              "25%            NaN  \n",
              "50%            NaN  \n",
              "75%            NaN  \n",
              "max            NaN  \n",
              "\n",
              "[8 rows x 66 columns]"
            ],
            "text/html": [
              "\n",
              "  <div id=\"df-4d74a4d8-eb6c-4bbe-acdf-aebdd4709bac\">\n",
              "    <div class=\"colab-df-container\">\n",
              "      <div>\n",
              "<style scoped>\n",
              "    .dataframe tbody tr th:only-of-type {\n",
              "        vertical-align: middle;\n",
              "    }\n",
              "\n",
              "    .dataframe tbody tr th {\n",
              "        vertical-align: top;\n",
              "    }\n",
              "\n",
              "    .dataframe thead th {\n",
              "        text-align: right;\n",
              "    }\n",
              "</style>\n",
              "<table border=\"1\" class=\"dataframe\">\n",
              "  <thead>\n",
              "    <tr style=\"text-align: right;\">\n",
              "      <th></th>\n",
              "      <th>1970</th>\n",
              "      <th>1971</th>\n",
              "      <th>1972</th>\n",
              "      <th>1973</th>\n",
              "      <th>1974</th>\n",
              "      <th>1975</th>\n",
              "      <th>1976</th>\n",
              "      <th>1977</th>\n",
              "      <th>1978</th>\n",
              "      <th>1979</th>\n",
              "      <th>...</th>\n",
              "      <th>2060</th>\n",
              "      <th>2065</th>\n",
              "      <th>2070</th>\n",
              "      <th>2075</th>\n",
              "      <th>2080</th>\n",
              "      <th>2085</th>\n",
              "      <th>2090</th>\n",
              "      <th>2095</th>\n",
              "      <th>2100</th>\n",
              "      <th>Unnamed: 69</th>\n",
              "    </tr>\n",
              "  </thead>\n",
              "  <tbody>\n",
              "    <tr>\n",
              "      <th>count</th>\n",
              "      <td>7.228800e+04</td>\n",
              "      <td>3.553700e+04</td>\n",
              "      <td>3.561900e+04</td>\n",
              "      <td>3.554500e+04</td>\n",
              "      <td>3.573000e+04</td>\n",
              "      <td>8.730600e+04</td>\n",
              "      <td>3.748300e+04</td>\n",
              "      <td>3.757400e+04</td>\n",
              "      <td>3.757600e+04</td>\n",
              "      <td>3.680900e+04</td>\n",
              "      <td>...</td>\n",
              "      <td>5.143600e+04</td>\n",
              "      <td>5.143600e+04</td>\n",
              "      <td>5.143600e+04</td>\n",
              "      <td>5.143600e+04</td>\n",
              "      <td>5.143600e+04</td>\n",
              "      <td>5.143600e+04</td>\n",
              "      <td>5.143600e+04</td>\n",
              "      <td>5.143600e+04</td>\n",
              "      <td>5.143600e+04</td>\n",
              "      <td>0.0</td>\n",
              "    </tr>\n",
              "    <tr>\n",
              "      <th>mean</th>\n",
              "      <td>1.974772e+09</td>\n",
              "      <td>4.253638e+09</td>\n",
              "      <td>4.592365e+09</td>\n",
              "      <td>5.105006e+09</td>\n",
              "      <td>5.401493e+09</td>\n",
              "      <td>2.314288e+09</td>\n",
              "      <td>5.731808e+09</td>\n",
              "      <td>6.124437e+09</td>\n",
              "      <td>6.671489e+09</td>\n",
              "      <td>7.436724e+09</td>\n",
              "      <td>...</td>\n",
              "      <td>7.224868e+02</td>\n",
              "      <td>7.271290e+02</td>\n",
              "      <td>7.283779e+02</td>\n",
              "      <td>7.266484e+02</td>\n",
              "      <td>7.228327e+02</td>\n",
              "      <td>7.176899e+02</td>\n",
              "      <td>7.113072e+02</td>\n",
              "      <td>7.034274e+02</td>\n",
              "      <td>6.940296e+02</td>\n",
              "      <td>NaN</td>\n",
              "    </tr>\n",
              "    <tr>\n",
              "      <th>std</th>\n",
              "      <td>1.211687e+11</td>\n",
              "      <td>1.804814e+11</td>\n",
              "      <td>1.914083e+11</td>\n",
              "      <td>2.059170e+11</td>\n",
              "      <td>2.112150e+11</td>\n",
              "      <td>1.375059e+11</td>\n",
              "      <td>2.215546e+11</td>\n",
              "      <td>2.325489e+11</td>\n",
              "      <td>2.473986e+11</td>\n",
              "      <td>2.660957e+11</td>\n",
              "      <td>...</td>\n",
              "      <td>2.215845e+04</td>\n",
              "      <td>2.287990e+04</td>\n",
              "      <td>2.352338e+04</td>\n",
              "      <td>2.408149e+04</td>\n",
              "      <td>2.455897e+04</td>\n",
              "      <td>2.496587e+04</td>\n",
              "      <td>2.530183e+04</td>\n",
              "      <td>2.556069e+04</td>\n",
              "      <td>2.574189e+04</td>\n",
              "      <td>NaN</td>\n",
              "    </tr>\n",
              "    <tr>\n",
              "      <th>min</th>\n",
              "      <td>-1.435564e+00</td>\n",
              "      <td>-1.594625e+00</td>\n",
              "      <td>-3.056522e+00</td>\n",
              "      <td>-4.032582e+00</td>\n",
              "      <td>-4.213563e+00</td>\n",
              "      <td>-3.658569e+00</td>\n",
              "      <td>-2.950945e+00</td>\n",
              "      <td>-3.174870e+00</td>\n",
              "      <td>-3.558749e+00</td>\n",
              "      <td>-2.973612e+00</td>\n",
              "      <td>...</td>\n",
              "      <td>-1.630000e+00</td>\n",
              "      <td>-1.440000e+00</td>\n",
              "      <td>-1.260000e+00</td>\n",
              "      <td>-1.090000e+00</td>\n",
              "      <td>-9.200000e-01</td>\n",
              "      <td>-7.800000e-01</td>\n",
              "      <td>-6.500000e-01</td>\n",
              "      <td>-5.500000e-01</td>\n",
              "      <td>-4.500000e-01</td>\n",
              "      <td>NaN</td>\n",
              "    </tr>\n",
              "    <tr>\n",
              "      <th>25%</th>\n",
              "      <td>8.900000e-01</td>\n",
              "      <td>8.853210e+00</td>\n",
              "      <td>9.240920e+00</td>\n",
              "      <td>9.595200e+00</td>\n",
              "      <td>9.861595e+00</td>\n",
              "      <td>1.400000e+00</td>\n",
              "      <td>9.312615e+00</td>\n",
              "      <td>9.519913e+00</td>\n",
              "      <td>1.000000e+01</td>\n",
              "      <td>1.000000e+01</td>\n",
              "      <td>...</td>\n",
              "      <td>3.000000e-02</td>\n",
              "      <td>3.000000e-02</td>\n",
              "      <td>2.000000e-02</td>\n",
              "      <td>2.000000e-02</td>\n",
              "      <td>1.000000e-02</td>\n",
              "      <td>1.000000e-02</td>\n",
              "      <td>1.000000e-02</td>\n",
              "      <td>1.000000e-02</td>\n",
              "      <td>1.000000e-02</td>\n",
              "      <td>NaN</td>\n",
              "    </tr>\n",
              "    <tr>\n",
              "      <th>50%</th>\n",
              "      <td>6.317724e+00</td>\n",
              "      <td>6.316240e+01</td>\n",
              "      <td>6.655139e+01</td>\n",
              "      <td>6.969595e+01</td>\n",
              "      <td>7.087760e+01</td>\n",
              "      <td>9.677420e+00</td>\n",
              "      <td>7.101590e+01</td>\n",
              "      <td>7.133326e+01</td>\n",
              "      <td>7.290512e+01</td>\n",
              "      <td>7.510173e+01</td>\n",
              "      <td>...</td>\n",
              "      <td>2.300000e-01</td>\n",
              "      <td>2.300000e-01</td>\n",
              "      <td>2.300000e-01</td>\n",
              "      <td>2.300000e-01</td>\n",
              "      <td>2.300000e-01</td>\n",
              "      <td>2.300000e-01</td>\n",
              "      <td>2.300000e-01</td>\n",
              "      <td>2.300000e-01</td>\n",
              "      <td>2.200000e-01</td>\n",
              "      <td>NaN</td>\n",
              "    </tr>\n",
              "    <tr>\n",
              "      <th>75%</th>\n",
              "      <td>6.251250e+01</td>\n",
              "      <td>5.655200e+04</td>\n",
              "      <td>5.863650e+04</td>\n",
              "      <td>6.202900e+04</td>\n",
              "      <td>6.383675e+04</td>\n",
              "      <td>7.854163e+01</td>\n",
              "      <td>5.682800e+04</td>\n",
              "      <td>5.739175e+04</td>\n",
              "      <td>5.940425e+04</td>\n",
              "      <td>6.411500e+04</td>\n",
              "      <td>...</td>\n",
              "      <td>7.505000e+00</td>\n",
              "      <td>7.500000e+00</td>\n",
              "      <td>7.300000e+00</td>\n",
              "      <td>7.100000e+00</td>\n",
              "      <td>6.722500e+00</td>\n",
              "      <td>6.080000e+00</td>\n",
              "      <td>5.462500e+00</td>\n",
              "      <td>4.680000e+00</td>\n",
              "      <td>4.032500e+00</td>\n",
              "      <td>NaN</td>\n",
              "    </tr>\n",
              "    <tr>\n",
              "      <th>max</th>\n",
              "      <td>1.903929e+13</td>\n",
              "      <td>1.986457e+13</td>\n",
              "      <td>2.100916e+13</td>\n",
              "      <td>2.238367e+13</td>\n",
              "      <td>2.282991e+13</td>\n",
              "      <td>2.300634e+13</td>\n",
              "      <td>2.424128e+13</td>\n",
              "      <td>2.521383e+13</td>\n",
              "      <td>2.622101e+13</td>\n",
              "      <td>2.730873e+13</td>\n",
              "      <td>...</td>\n",
              "      <td>2.951569e+06</td>\n",
              "      <td>3.070879e+06</td>\n",
              "      <td>3.169711e+06</td>\n",
              "      <td>3.246239e+06</td>\n",
              "      <td>3.301586e+06</td>\n",
              "      <td>3.337871e+06</td>\n",
              "      <td>3.354746e+06</td>\n",
              "      <td>3.351887e+06</td>\n",
              "      <td>3.330484e+06</td>\n",
              "      <td>NaN</td>\n",
              "    </tr>\n",
              "  </tbody>\n",
              "</table>\n",
              "<p>8 rows × 66 columns</p>\n",
              "</div>\n",
              "      <button class=\"colab-df-convert\" onclick=\"convertToInteractive('df-4d74a4d8-eb6c-4bbe-acdf-aebdd4709bac')\"\n",
              "              title=\"Convert this dataframe to an interactive table.\"\n",
              "              style=\"display:none;\">\n",
              "        \n",
              "  <svg xmlns=\"http://www.w3.org/2000/svg\" height=\"24px\"viewBox=\"0 0 24 24\"\n",
              "       width=\"24px\">\n",
              "    <path d=\"M0 0h24v24H0V0z\" fill=\"none\"/>\n",
              "    <path d=\"M18.56 5.44l.94 2.06.94-2.06 2.06-.94-2.06-.94-.94-2.06-.94 2.06-2.06.94zm-11 1L8.5 8.5l.94-2.06 2.06-.94-2.06-.94L8.5 2.5l-.94 2.06-2.06.94zm10 10l.94 2.06.94-2.06 2.06-.94-2.06-.94-.94-2.06-.94 2.06-2.06.94z\"/><path d=\"M17.41 7.96l-1.37-1.37c-.4-.4-.92-.59-1.43-.59-.52 0-1.04.2-1.43.59L10.3 9.45l-7.72 7.72c-.78.78-.78 2.05 0 2.83L4 21.41c.39.39.9.59 1.41.59.51 0 1.02-.2 1.41-.59l7.78-7.78 2.81-2.81c.8-.78.8-2.07 0-2.86zM5.41 20L4 18.59l7.72-7.72 1.47 1.35L5.41 20z\"/>\n",
              "  </svg>\n",
              "      </button>\n",
              "      \n",
              "  <style>\n",
              "    .colab-df-container {\n",
              "      display:flex;\n",
              "      flex-wrap:wrap;\n",
              "      gap: 12px;\n",
              "    }\n",
              "\n",
              "    .colab-df-convert {\n",
              "      background-color: #E8F0FE;\n",
              "      border: none;\n",
              "      border-radius: 50%;\n",
              "      cursor: pointer;\n",
              "      display: none;\n",
              "      fill: #1967D2;\n",
              "      height: 32px;\n",
              "      padding: 0 0 0 0;\n",
              "      width: 32px;\n",
              "    }\n",
              "\n",
              "    .colab-df-convert:hover {\n",
              "      background-color: #E2EBFA;\n",
              "      box-shadow: 0px 1px 2px rgba(60, 64, 67, 0.3), 0px 1px 3px 1px rgba(60, 64, 67, 0.15);\n",
              "      fill: #174EA6;\n",
              "    }\n",
              "\n",
              "    [theme=dark] .colab-df-convert {\n",
              "      background-color: #3B4455;\n",
              "      fill: #D2E3FC;\n",
              "    }\n",
              "\n",
              "    [theme=dark] .colab-df-convert:hover {\n",
              "      background-color: #434B5C;\n",
              "      box-shadow: 0px 1px 3px 1px rgba(0, 0, 0, 0.15);\n",
              "      filter: drop-shadow(0px 1px 2px rgba(0, 0, 0, 0.3));\n",
              "      fill: #FFFFFF;\n",
              "    }\n",
              "  </style>\n",
              "\n",
              "      <script>\n",
              "        const buttonEl =\n",
              "          document.querySelector('#df-4d74a4d8-eb6c-4bbe-acdf-aebdd4709bac button.colab-df-convert');\n",
              "        buttonEl.style.display =\n",
              "          google.colab.kernel.accessAllowed ? 'block' : 'none';\n",
              "\n",
              "        async function convertToInteractive(key) {\n",
              "          const element = document.querySelector('#df-4d74a4d8-eb6c-4bbe-acdf-aebdd4709bac');\n",
              "          const dataTable =\n",
              "            await google.colab.kernel.invokeFunction('convertToInteractive',\n",
              "                                                     [key], {});\n",
              "          if (!dataTable) return;\n",
              "\n",
              "          const docLinkHtml = 'Like what you see? Visit the ' +\n",
              "            '<a target=\"_blank\" href=https://colab.research.google.com/notebooks/data_table.ipynb>data table notebook</a>'\n",
              "            + ' to learn more about interactive tables.';\n",
              "          element.innerHTML = '';\n",
              "          dataTable['output_type'] = 'display_data';\n",
              "          await google.colab.output.renderOutput(dataTable, element);\n",
              "          const docLink = document.createElement('div');\n",
              "          docLink.innerHTML = docLinkHtml;\n",
              "          element.appendChild(docLink);\n",
              "        }\n",
              "      </script>\n",
              "    </div>\n",
              "  </div>\n",
              "  "
            ]
          },
          "metadata": {},
          "execution_count": 6
        }
      ]
    },
    {
      "cell_type": "code",
      "source": [
        ""
      ],
      "metadata": {
        "id": "rD7VQ6GS0k9X"
      },
      "execution_count": null,
      "outputs": []
    },
    {
      "cell_type": "markdown",
      "source": [
        "2.   **EdStatsCountry**:- This file contains information from census and surveys across various departments, segregated in a country-wise manner"
      ],
      "metadata": {
        "id": "M3PxMPFDi8PU"
      }
    },
    {
      "cell_type": "code",
      "source": [
        "# Loading EdStatsCountry file.\n",
        "EdStatsCountry = pd.read_csv(Data_path + \"EdStatsCountry.csv\")\n",
        "# EdStatsCountry.head(3)\n",
        "EdStatsCountry.shape"
      ],
      "metadata": {
        "colab": {
          "base_uri": "https://localhost:8080/"
        },
        "id": "0cn2d4-_cWKR",
        "outputId": "8dc09dcc-a8d6-491d-c5fe-4331dfe9caca"
      },
      "execution_count": null,
      "outputs": [
        {
          "output_type": "execute_result",
          "data": {
            "text/plain": [
              "(241, 32)"
            ]
          },
          "metadata": {},
          "execution_count": 7
        }
      ]
    },
    {
      "cell_type": "code",
      "source": [
        "# Using to column attribute to see what type of information is stored in EdStatsCountry file.\n",
        "EdStatsCountry.columns"
      ],
      "metadata": {
        "colab": {
          "base_uri": "https://localhost:8080/"
        },
        "id": "Si52-gl6C8lf",
        "outputId": "443b2101-06dd-4739-c011-dadf2094ed40"
      },
      "execution_count": null,
      "outputs": [
        {
          "output_type": "execute_result",
          "data": {
            "text/plain": [
              "Index(['Country Code', 'Short Name', 'Table Name', 'Long Name', '2-alpha code',\n",
              "       'Currency Unit', 'Special Notes', 'Region', 'Income Group', 'WB-2 code',\n",
              "       'National accounts base year', 'National accounts reference year',\n",
              "       'SNA price valuation', 'Lending category', 'Other groups',\n",
              "       'System of National Accounts', 'Alternative conversion factor',\n",
              "       'PPP survey year', 'Balance of Payments Manual in use',\n",
              "       'External debt Reporting status', 'System of trade',\n",
              "       'Government Accounting concept', 'IMF data dissemination standard',\n",
              "       'Latest population census', 'Latest household survey',\n",
              "       'Source of most recent Income and expenditure data',\n",
              "       'Vital registration complete', 'Latest agricultural census',\n",
              "       'Latest industrial data', 'Latest trade data',\n",
              "       'Latest water withdrawal data', 'Unnamed: 31'],\n",
              "      dtype='object')"
            ]
          },
          "metadata": {},
          "execution_count": 8
        }
      ]
    },
    {
      "cell_type": "markdown",
      "source": [
        "3.   **EdStatsCountry-Series**:- This file contains the Series Code for various indicators, as well as the Data sources from which they have been derived\n",
        "\n"
      ],
      "metadata": {
        "id": "bQnGDA6c6TuQ"
      }
    },
    {
      "cell_type": "code",
      "source": [
        "# Loading EdStatsCountry_Series file.\n",
        "EdStatsCountry_Series = pd.read_csv(Data_path + \"EdStatsCountry-Series.csv\")\n",
        "# EdStatsCountry_Series.head(3)\n",
        "EdStatsCountry_Series.shape"
      ],
      "metadata": {
        "colab": {
          "base_uri": "https://localhost:8080/"
        },
        "id": "8N8cOVB6i2QT",
        "outputId": "93796992-40f2-4cde-992a-cc9c4cb5d051"
      },
      "execution_count": null,
      "outputs": [
        {
          "output_type": "execute_result",
          "data": {
            "text/plain": [
              "(613, 4)"
            ]
          },
          "metadata": {},
          "execution_count": 10
        }
      ]
    },
    {
      "cell_type": "code",
      "source": [
        "EdStatsCountry_Series.columns"
      ],
      "metadata": {
        "id": "IZR0BFbnC91t",
        "colab": {
          "base_uri": "https://localhost:8080/"
        },
        "outputId": "ed2b4cfe-90b7-4eb6-ab14-9b99238c0435"
      },
      "execution_count": null,
      "outputs": [
        {
          "output_type": "execute_result",
          "data": {
            "text/plain": [
              "Index(['CountryCode', 'SeriesCode', 'DESCRIPTION', 'Unnamed: 3'], dtype='object')"
            ]
          },
          "metadata": {},
          "execution_count": 11
        }
      ]
    },
    {
      "cell_type": "markdown",
      "source": [
        "4.   **EdStatsFootNode**:- This file contains year wise indicator names along with their respective descrption. It tells us the nature of the indicators, if its and estimate value or a percentage distribution etc. From context of our analysis this information isn't quite useful, since its already evident with the type of data EdStatsData holds.\n"
      ],
      "metadata": {
        "id": "DLIGeJNU6Urc"
      }
    },
    {
      "cell_type": "code",
      "source": [
        "# Loading EdStatsFootNote file.\n",
        "EdStatsFootNote = pd.read_csv(Data_path + \"EdStatsFootNote.csv\")\n",
        "# Displaying first 3 rows.\n",
        "EdStatsFootNote.head(3)"
      ],
      "metadata": {
        "colab": {
          "base_uri": "https://localhost:8080/",
          "height": 143
        },
        "id": "N4ncQ3yQjPZ_",
        "outputId": "b6367078-8e98-4a73-adaf-f27ffa421f84"
      },
      "execution_count": null,
      "outputs": [
        {
          "output_type": "execute_result",
          "data": {
            "text/plain": [
              "  CountryCode      SeriesCode    Year          DESCRIPTION  Unnamed: 4\n",
              "0         ABW  SE.PRE.ENRL.FE  YR2001  Country estimation.         NaN\n",
              "1         ABW  SE.TER.TCHR.FE  YR2005  Country estimation.         NaN\n",
              "2         ABW  SE.PRE.TCHR.FE  YR2000  Country estimation.         NaN"
            ],
            "text/html": [
              "\n",
              "  <div id=\"df-7e86c04a-1966-4c8e-8e48-a564b3dbef37\">\n",
              "    <div class=\"colab-df-container\">\n",
              "      <div>\n",
              "<style scoped>\n",
              "    .dataframe tbody tr th:only-of-type {\n",
              "        vertical-align: middle;\n",
              "    }\n",
              "\n",
              "    .dataframe tbody tr th {\n",
              "        vertical-align: top;\n",
              "    }\n",
              "\n",
              "    .dataframe thead th {\n",
              "        text-align: right;\n",
              "    }\n",
              "</style>\n",
              "<table border=\"1\" class=\"dataframe\">\n",
              "  <thead>\n",
              "    <tr style=\"text-align: right;\">\n",
              "      <th></th>\n",
              "      <th>CountryCode</th>\n",
              "      <th>SeriesCode</th>\n",
              "      <th>Year</th>\n",
              "      <th>DESCRIPTION</th>\n",
              "      <th>Unnamed: 4</th>\n",
              "    </tr>\n",
              "  </thead>\n",
              "  <tbody>\n",
              "    <tr>\n",
              "      <th>0</th>\n",
              "      <td>ABW</td>\n",
              "      <td>SE.PRE.ENRL.FE</td>\n",
              "      <td>YR2001</td>\n",
              "      <td>Country estimation.</td>\n",
              "      <td>NaN</td>\n",
              "    </tr>\n",
              "    <tr>\n",
              "      <th>1</th>\n",
              "      <td>ABW</td>\n",
              "      <td>SE.TER.TCHR.FE</td>\n",
              "      <td>YR2005</td>\n",
              "      <td>Country estimation.</td>\n",
              "      <td>NaN</td>\n",
              "    </tr>\n",
              "    <tr>\n",
              "      <th>2</th>\n",
              "      <td>ABW</td>\n",
              "      <td>SE.PRE.TCHR.FE</td>\n",
              "      <td>YR2000</td>\n",
              "      <td>Country estimation.</td>\n",
              "      <td>NaN</td>\n",
              "    </tr>\n",
              "  </tbody>\n",
              "</table>\n",
              "</div>\n",
              "      <button class=\"colab-df-convert\" onclick=\"convertToInteractive('df-7e86c04a-1966-4c8e-8e48-a564b3dbef37')\"\n",
              "              title=\"Convert this dataframe to an interactive table.\"\n",
              "              style=\"display:none;\">\n",
              "        \n",
              "  <svg xmlns=\"http://www.w3.org/2000/svg\" height=\"24px\"viewBox=\"0 0 24 24\"\n",
              "       width=\"24px\">\n",
              "    <path d=\"M0 0h24v24H0V0z\" fill=\"none\"/>\n",
              "    <path d=\"M18.56 5.44l.94 2.06.94-2.06 2.06-.94-2.06-.94-.94-2.06-.94 2.06-2.06.94zm-11 1L8.5 8.5l.94-2.06 2.06-.94-2.06-.94L8.5 2.5l-.94 2.06-2.06.94zm10 10l.94 2.06.94-2.06 2.06-.94-2.06-.94-.94-2.06-.94 2.06-2.06.94z\"/><path d=\"M17.41 7.96l-1.37-1.37c-.4-.4-.92-.59-1.43-.59-.52 0-1.04.2-1.43.59L10.3 9.45l-7.72 7.72c-.78.78-.78 2.05 0 2.83L4 21.41c.39.39.9.59 1.41.59.51 0 1.02-.2 1.41-.59l7.78-7.78 2.81-2.81c.8-.78.8-2.07 0-2.86zM5.41 20L4 18.59l7.72-7.72 1.47 1.35L5.41 20z\"/>\n",
              "  </svg>\n",
              "      </button>\n",
              "      \n",
              "  <style>\n",
              "    .colab-df-container {\n",
              "      display:flex;\n",
              "      flex-wrap:wrap;\n",
              "      gap: 12px;\n",
              "    }\n",
              "\n",
              "    .colab-df-convert {\n",
              "      background-color: #E8F0FE;\n",
              "      border: none;\n",
              "      border-radius: 50%;\n",
              "      cursor: pointer;\n",
              "      display: none;\n",
              "      fill: #1967D2;\n",
              "      height: 32px;\n",
              "      padding: 0 0 0 0;\n",
              "      width: 32px;\n",
              "    }\n",
              "\n",
              "    .colab-df-convert:hover {\n",
              "      background-color: #E2EBFA;\n",
              "      box-shadow: 0px 1px 2px rgba(60, 64, 67, 0.3), 0px 1px 3px 1px rgba(60, 64, 67, 0.15);\n",
              "      fill: #174EA6;\n",
              "    }\n",
              "\n",
              "    [theme=dark] .colab-df-convert {\n",
              "      background-color: #3B4455;\n",
              "      fill: #D2E3FC;\n",
              "    }\n",
              "\n",
              "    [theme=dark] .colab-df-convert:hover {\n",
              "      background-color: #434B5C;\n",
              "      box-shadow: 0px 1px 3px 1px rgba(0, 0, 0, 0.15);\n",
              "      filter: drop-shadow(0px 1px 2px rgba(0, 0, 0, 0.3));\n",
              "      fill: #FFFFFF;\n",
              "    }\n",
              "  </style>\n",
              "\n",
              "      <script>\n",
              "        const buttonEl =\n",
              "          document.querySelector('#df-7e86c04a-1966-4c8e-8e48-a564b3dbef37 button.colab-df-convert');\n",
              "        buttonEl.style.display =\n",
              "          google.colab.kernel.accessAllowed ? 'block' : 'none';\n",
              "\n",
              "        async function convertToInteractive(key) {\n",
              "          const element = document.querySelector('#df-7e86c04a-1966-4c8e-8e48-a564b3dbef37');\n",
              "          const dataTable =\n",
              "            await google.colab.kernel.invokeFunction('convertToInteractive',\n",
              "                                                     [key], {});\n",
              "          if (!dataTable) return;\n",
              "\n",
              "          const docLinkHtml = 'Like what you see? Visit the ' +\n",
              "            '<a target=\"_blank\" href=https://colab.research.google.com/notebooks/data_table.ipynb>data table notebook</a>'\n",
              "            + ' to learn more about interactive tables.';\n",
              "          element.innerHTML = '';\n",
              "          dataTable['output_type'] = 'display_data';\n",
              "          await google.colab.output.renderOutput(dataTable, element);\n",
              "          const docLink = document.createElement('div');\n",
              "          docLink.innerHTML = docLinkHtml;\n",
              "          element.appendChild(docLink);\n",
              "        }\n",
              "      </script>\n",
              "    </div>\n",
              "  </div>\n",
              "  "
            ]
          },
          "metadata": {},
          "execution_count": 12
        }
      ]
    },
    {
      "cell_type": "code",
      "source": [
        "# Number of rows and columns in EdStatsFootNote.\n",
        "EdStatsFootNote.shape"
      ],
      "metadata": {
        "id": "15BTwnbpC-wS",
        "colab": {
          "base_uri": "https://localhost:8080/"
        },
        "outputId": "ad416cdc-9376-46ca-ed13-7721edab48f9"
      },
      "execution_count": null,
      "outputs": [
        {
          "output_type": "execute_result",
          "data": {
            "text/plain": [
              "(643638, 5)"
            ]
          },
          "metadata": {},
          "execution_count": 19
        }
      ]
    },
    {
      "cell_type": "markdown",
      "source": [
        "5.   **EdStatsSeries**:- This file contains regional learning assessments data(e.g. PISA, TIMSS, PIRLS), equity data from household surveys, and projection/attainment data. "
      ],
      "metadata": {
        "id": "UV8-OQZ96VoW"
      }
    },
    {
      "cell_type": "code",
      "source": [
        "# Loading EdStatsSeries file\n",
        "EdStatsSeries = pd.read_csv(Data_path + \"EdStatsSeries.csv\")\n",
        "EdStatsSeries.head(2)"
      ],
      "metadata": {
        "colab": {
          "base_uri": "https://localhost:8080/",
          "height": 414
        },
        "id": "mFRRvvrL5c0I",
        "outputId": "426a12e9-cf21-4409-9372-eb0e6d980356"
      },
      "execution_count": null,
      "outputs": [
        {
          "output_type": "execute_result",
          "data": {
            "text/plain": [
              "           Series Code       Topic  \\\n",
              "0  BAR.NOED.1519.FE.ZS  Attainment   \n",
              "1     BAR.NOED.1519.ZS  Attainment   \n",
              "\n",
              "                                      Indicator Name  \\\n",
              "0  Barro-Lee: Percentage of female population age...   \n",
              "1  Barro-Lee: Percentage of population age 15-19 ...   \n",
              "\n",
              "                                    Short definition  \\\n",
              "0  Percentage of female population age 15-19 with...   \n",
              "1  Percentage of population age 15-19 with no edu...   \n",
              "\n",
              "                                     Long definition  Unit of measure  \\\n",
              "0  Percentage of female population age 15-19 with...              NaN   \n",
              "1  Percentage of population age 15-19 with no edu...              NaN   \n",
              "\n",
              "  Periodicity Base Period Other notes Aggregation method  ...  \\\n",
              "0         NaN         NaN         NaN                NaN  ...   \n",
              "1         NaN         NaN         NaN                NaN  ...   \n",
              "\n",
              "  Notes from original source  General comments  \\\n",
              "0                        NaN               NaN   \n",
              "1                        NaN               NaN   \n",
              "\n",
              "                                              Source  \\\n",
              "0  Robert J. Barro and Jong-Wha Lee: http://www.b...   \n",
              "1  Robert J. Barro and Jong-Wha Lee: http://www.b...   \n",
              "\n",
              "  Statistical concept and methodology Development relevance  \\\n",
              "0                                 NaN                   NaN   \n",
              "1                                 NaN                   NaN   \n",
              "\n",
              "  Related source links Other web links  Related indicators  License Type  \\\n",
              "0                  NaN             NaN                 NaN           NaN   \n",
              "1                  NaN             NaN                 NaN           NaN   \n",
              "\n",
              "   Unnamed: 20  \n",
              "0          NaN  \n",
              "1          NaN  \n",
              "\n",
              "[2 rows x 21 columns]"
            ],
            "text/html": [
              "\n",
              "  <div id=\"df-9ca43e74-59ab-4ea2-8dc1-97157eef42a4\">\n",
              "    <div class=\"colab-df-container\">\n",
              "      <div>\n",
              "<style scoped>\n",
              "    .dataframe tbody tr th:only-of-type {\n",
              "        vertical-align: middle;\n",
              "    }\n",
              "\n",
              "    .dataframe tbody tr th {\n",
              "        vertical-align: top;\n",
              "    }\n",
              "\n",
              "    .dataframe thead th {\n",
              "        text-align: right;\n",
              "    }\n",
              "</style>\n",
              "<table border=\"1\" class=\"dataframe\">\n",
              "  <thead>\n",
              "    <tr style=\"text-align: right;\">\n",
              "      <th></th>\n",
              "      <th>Series Code</th>\n",
              "      <th>Topic</th>\n",
              "      <th>Indicator Name</th>\n",
              "      <th>Short definition</th>\n",
              "      <th>Long definition</th>\n",
              "      <th>Unit of measure</th>\n",
              "      <th>Periodicity</th>\n",
              "      <th>Base Period</th>\n",
              "      <th>Other notes</th>\n",
              "      <th>Aggregation method</th>\n",
              "      <th>...</th>\n",
              "      <th>Notes from original source</th>\n",
              "      <th>General comments</th>\n",
              "      <th>Source</th>\n",
              "      <th>Statistical concept and methodology</th>\n",
              "      <th>Development relevance</th>\n",
              "      <th>Related source links</th>\n",
              "      <th>Other web links</th>\n",
              "      <th>Related indicators</th>\n",
              "      <th>License Type</th>\n",
              "      <th>Unnamed: 20</th>\n",
              "    </tr>\n",
              "  </thead>\n",
              "  <tbody>\n",
              "    <tr>\n",
              "      <th>0</th>\n",
              "      <td>BAR.NOED.1519.FE.ZS</td>\n",
              "      <td>Attainment</td>\n",
              "      <td>Barro-Lee: Percentage of female population age...</td>\n",
              "      <td>Percentage of female population age 15-19 with...</td>\n",
              "      <td>Percentage of female population age 15-19 with...</td>\n",
              "      <td>NaN</td>\n",
              "      <td>NaN</td>\n",
              "      <td>NaN</td>\n",
              "      <td>NaN</td>\n",
              "      <td>NaN</td>\n",
              "      <td>...</td>\n",
              "      <td>NaN</td>\n",
              "      <td>NaN</td>\n",
              "      <td>Robert J. Barro and Jong-Wha Lee: http://www.b...</td>\n",
              "      <td>NaN</td>\n",
              "      <td>NaN</td>\n",
              "      <td>NaN</td>\n",
              "      <td>NaN</td>\n",
              "      <td>NaN</td>\n",
              "      <td>NaN</td>\n",
              "      <td>NaN</td>\n",
              "    </tr>\n",
              "    <tr>\n",
              "      <th>1</th>\n",
              "      <td>BAR.NOED.1519.ZS</td>\n",
              "      <td>Attainment</td>\n",
              "      <td>Barro-Lee: Percentage of population age 15-19 ...</td>\n",
              "      <td>Percentage of population age 15-19 with no edu...</td>\n",
              "      <td>Percentage of population age 15-19 with no edu...</td>\n",
              "      <td>NaN</td>\n",
              "      <td>NaN</td>\n",
              "      <td>NaN</td>\n",
              "      <td>NaN</td>\n",
              "      <td>NaN</td>\n",
              "      <td>...</td>\n",
              "      <td>NaN</td>\n",
              "      <td>NaN</td>\n",
              "      <td>Robert J. Barro and Jong-Wha Lee: http://www.b...</td>\n",
              "      <td>NaN</td>\n",
              "      <td>NaN</td>\n",
              "      <td>NaN</td>\n",
              "      <td>NaN</td>\n",
              "      <td>NaN</td>\n",
              "      <td>NaN</td>\n",
              "      <td>NaN</td>\n",
              "    </tr>\n",
              "  </tbody>\n",
              "</table>\n",
              "<p>2 rows × 21 columns</p>\n",
              "</div>\n",
              "      <button class=\"colab-df-convert\" onclick=\"convertToInteractive('df-9ca43e74-59ab-4ea2-8dc1-97157eef42a4')\"\n",
              "              title=\"Convert this dataframe to an interactive table.\"\n",
              "              style=\"display:none;\">\n",
              "        \n",
              "  <svg xmlns=\"http://www.w3.org/2000/svg\" height=\"24px\"viewBox=\"0 0 24 24\"\n",
              "       width=\"24px\">\n",
              "    <path d=\"M0 0h24v24H0V0z\" fill=\"none\"/>\n",
              "    <path d=\"M18.56 5.44l.94 2.06.94-2.06 2.06-.94-2.06-.94-.94-2.06-.94 2.06-2.06.94zm-11 1L8.5 8.5l.94-2.06 2.06-.94-2.06-.94L8.5 2.5l-.94 2.06-2.06.94zm10 10l.94 2.06.94-2.06 2.06-.94-2.06-.94-.94-2.06-.94 2.06-2.06.94z\"/><path d=\"M17.41 7.96l-1.37-1.37c-.4-.4-.92-.59-1.43-.59-.52 0-1.04.2-1.43.59L10.3 9.45l-7.72 7.72c-.78.78-.78 2.05 0 2.83L4 21.41c.39.39.9.59 1.41.59.51 0 1.02-.2 1.41-.59l7.78-7.78 2.81-2.81c.8-.78.8-2.07 0-2.86zM5.41 20L4 18.59l7.72-7.72 1.47 1.35L5.41 20z\"/>\n",
              "  </svg>\n",
              "      </button>\n",
              "      \n",
              "  <style>\n",
              "    .colab-df-container {\n",
              "      display:flex;\n",
              "      flex-wrap:wrap;\n",
              "      gap: 12px;\n",
              "    }\n",
              "\n",
              "    .colab-df-convert {\n",
              "      background-color: #E8F0FE;\n",
              "      border: none;\n",
              "      border-radius: 50%;\n",
              "      cursor: pointer;\n",
              "      display: none;\n",
              "      fill: #1967D2;\n",
              "      height: 32px;\n",
              "      padding: 0 0 0 0;\n",
              "      width: 32px;\n",
              "    }\n",
              "\n",
              "    .colab-df-convert:hover {\n",
              "      background-color: #E2EBFA;\n",
              "      box-shadow: 0px 1px 2px rgba(60, 64, 67, 0.3), 0px 1px 3px 1px rgba(60, 64, 67, 0.15);\n",
              "      fill: #174EA6;\n",
              "    }\n",
              "\n",
              "    [theme=dark] .colab-df-convert {\n",
              "      background-color: #3B4455;\n",
              "      fill: #D2E3FC;\n",
              "    }\n",
              "\n",
              "    [theme=dark] .colab-df-convert:hover {\n",
              "      background-color: #434B5C;\n",
              "      box-shadow: 0px 1px 3px 1px rgba(0, 0, 0, 0.15);\n",
              "      filter: drop-shadow(0px 1px 2px rgba(0, 0, 0, 0.3));\n",
              "      fill: #FFFFFF;\n",
              "    }\n",
              "  </style>\n",
              "\n",
              "      <script>\n",
              "        const buttonEl =\n",
              "          document.querySelector('#df-9ca43e74-59ab-4ea2-8dc1-97157eef42a4 button.colab-df-convert');\n",
              "        buttonEl.style.display =\n",
              "          google.colab.kernel.accessAllowed ? 'block' : 'none';\n",
              "\n",
              "        async function convertToInteractive(key) {\n",
              "          const element = document.querySelector('#df-9ca43e74-59ab-4ea2-8dc1-97157eef42a4');\n",
              "          const dataTable =\n",
              "            await google.colab.kernel.invokeFunction('convertToInteractive',\n",
              "                                                     [key], {});\n",
              "          if (!dataTable) return;\n",
              "\n",
              "          const docLinkHtml = 'Like what you see? Visit the ' +\n",
              "            '<a target=\"_blank\" href=https://colab.research.google.com/notebooks/data_table.ipynb>data table notebook</a>'\n",
              "            + ' to learn more about interactive tables.';\n",
              "          element.innerHTML = '';\n",
              "          dataTable['output_type'] = 'display_data';\n",
              "          await google.colab.output.renderOutput(dataTable, element);\n",
              "          const docLink = document.createElement('div');\n",
              "          docLink.innerHTML = docLinkHtml;\n",
              "          element.appendChild(docLink);\n",
              "        }\n",
              "      </script>\n",
              "    </div>\n",
              "  </div>\n",
              "  "
            ]
          },
          "metadata": {},
          "execution_count": 13
        }
      ]
    },
    {
      "cell_type": "code",
      "source": [
        "# Number of rows and columns in EdStatsSeries.\n",
        "EdStatsSeries.shape"
      ],
      "metadata": {
        "id": "4FRjd0M0C_1z",
        "colab": {
          "base_uri": "https://localhost:8080/"
        },
        "outputId": "bec88fd1-093f-47c7-d02f-ebf2502467c5"
      },
      "execution_count": null,
      "outputs": [
        {
          "output_type": "execute_result",
          "data": {
            "text/plain": [
              "(3665, 21)"
            ]
          },
          "metadata": {},
          "execution_count": 14
        }
      ]
    },
    {
      "cell_type": "markdown",
      "source": [
        "### **Data Pre-Processing & Mining for Indicators**\n",
        "\n",
        "The Data mining is the process of extracting and discovering patterns in large data sets. Data Cleaning is one of the most integral part of analysis, in order to get something meaningful out of a huge dataset we need to figure out how to extract a generalized, smaller and more skewed sub-dataFrame out of it. Like here we have defined two functions, i.e, get_columnwise_data() and get_rowwise_data() to extract out column wise and row wise matrices respectively. Also the function performs some partial cleaning over data such that we only have rows and columns that has some meaningful data to hold. The columns that are all 'NaNs' are dropped such that the data remains cosistent and more skewed. Filling those null columns could effect the analysis, manipulating the graph with values that are not literal and are estimated in one way or the other. Since filling those nulls with a mean or 0, or using forward and backward fill methods, could not make up for the original value, and this is same for all countries so dropping such columns seemed to be the right choice."
      ],
      "metadata": {
        "id": "EpXvdS14bM66"
      }
    },
    {
      "cell_type": "code",
      "source": [
        "# Function to mine a columnwise sub dataset that would have the selected countries as columns with the\n",
        "# set of meaningful years (those columns/Years that have at least one available value is considered) as rows.\n",
        "# This type of data is suitable for plotting line charts and get meaningful insights accross the trends it produces.\n",
        "\n",
        "def get_columnwise_data(indicator_code):\n",
        "  # Loading the respective data for a particular indicator passed to the function.\n",
        "  # here it will extract out the data for all available countries, we can narrow \n",
        "  # it down later to countries we have selected for analysis.\n",
        "  df = EdStatsData[EdStatsData[\"Indicator Code\"] == indicator_code]\n",
        "\n",
        "  # Data respective to selected set of countries.\n",
        "  df = df.loc[df['Country Name'].isin(Countries)]\n",
        "\n",
        "  # Dropping columns with all 'NaNs'.\n",
        "  df.dropna(how='all', axis = \"columns\", inplace=True)\n",
        "\n",
        "  # Resetting indexes in the data since the previous indexes are now hard to follow up with.\n",
        "  df.reset_index(inplace = True)\n",
        "\n",
        "  # Extracting the Indicator Name. It can be used as Title while plotting the visualizations.\n",
        "  title = df[\"Indicator Name\"][0]\n",
        "\n",
        "  # Dropping unnecessary columns, this will help us to only keep meaningful \n",
        "  # data that adds some value our visualizations.\n",
        "  df.drop(labels = [\"index\", \"Country Code\", \"Indicator Name\", \"Indicator Code\"], axis = \"columns\", inplace = True)\n",
        "\n",
        "  # Tranposing the dataframe in order to get country-wise columns that \n",
        "  # holds values across the years for a respective country.\n",
        "  df = df.T\n",
        "\n",
        "  # Again after transposing the previous indexes are meaningless because \n",
        "  # that cannot be used to index elements so we are resetting indexes again.\n",
        "  df.reset_index(inplace=True)\n",
        "\n",
        "  # The variable new_columns holds a list of column names for our new dataframe,\n",
        "  # with first column being \"Year\" and rest all are country names respectively.\n",
        "  new_columns = [ \"Year\", \"Australia\", \"Canada\", \"Germany\", \"India\", \"Japan\", \"South Africa\",\n",
        "                 \"Sri Lanka\", \"United Kingdom\", \"United States\"]\n",
        "\n",
        "  # Replacing the column names.\n",
        "  df.set_axis(new_columns, axis=1, inplace = True)\n",
        "\n",
        "  # Dropping first row since it holds country name column tranposed \n",
        "  # which is unnecessary at this point.\n",
        "  df.drop(0, inplace = True)\n",
        "\n",
        "  # Returning the required dataframe along with title of the Indicator.\n",
        "  return df, title\n",
        "    \n",
        "    \n",
        "# Follwoing is the function to mine the data in a row wise manner such that we have years\n",
        "# as columns and countries as respective rows. This type of data is helps to plot\n",
        "# graphical display of data using bars of different heights and analyse trends over time.\n",
        "\n",
        "def get_rowwise_data(indicator_code):\n",
        "  # Calling get_columnwise_data() with the given indicator code in order to get a column wise dataframe first.\n",
        "  # Later we can convert it into a rowwise dataframe by performing a few opeations over it.\n",
        "  df, title = get_columnwise_data(indicator_code)\n",
        "\n",
        "  # Extracting the year list so that it can be used later to get column names.\n",
        "  cols = list(df[\"Year\"])\n",
        "\n",
        "  # Transposing the dataframe.\n",
        "  df = df.T\n",
        "\n",
        "  # Resetting Indexes again bacause we performed tranpose operation over dataframe.\n",
        "  df.reset_index(inplace=True)\n",
        "\n",
        "  # Setting new column names (Years).\n",
        "  df.set_axis(([\"Country Name\"] + cols), axis=1, inplace = True)\n",
        "\n",
        "  # dropping 0th row (contains list of years).\n",
        "  df.drop(0, inplace = True)\n",
        "\n",
        "  # Returning the dataframe and Indicator title.\n",
        "  return df, title"
      ],
      "metadata": {
        "id": "6_B62WIi79nr"
      },
      "execution_count": 1,
      "outputs": []
    },
    {
      "cell_type": "markdown",
      "source": [
        "**Now, lets just check if the function works as expected.**"
      ],
      "metadata": {
        "id": "Ge3iU_qiP1zu"
      }
    },
    {
      "cell_type": "code",
      "source": [
        "# Calling get_rowwise_data() on the indicator present at index 1 in the Indicators list.\n",
        "# This Indicator is described as \"Percentage of enrolment in pre-primary education in private institutions (%)\".\n",
        "# This is just to test if the function is returning the required results.\n",
        "temp1, t1 = get_rowwise_data(Indicators[1])\n",
        "\n",
        "# Printing Title of the Indicator.\n",
        "print(t1)\n",
        "\n",
        "# displaying the dataframe.\n",
        "temp1"
      ],
      "metadata": {
        "colab": {
          "base_uri": "https://localhost:8080/",
          "height": 530
        },
        "id": "-Y3qyyPlP0O8",
        "outputId": "5091f7af-8cfc-4888-edc6-4c55ca15a124"
      },
      "execution_count": 7,
      "outputs": [
        {
          "output_type": "stream",
          "name": "stdout",
          "text": [
            "Percentage of enrolment in pre-primary education in private institutions (%)\n"
          ]
        },
        {
          "output_type": "execute_result",
          "data": {
            "text/plain": [
              "     Country Name       1971       1972       1973       1974       1975  \\\n",
              "1       Australia        NaN        NaN        NaN  21.940889   19.49725   \n",
              "2          Canada     2.6436    2.35687    2.26478    2.00116     2.5621   \n",
              "3         Germany        NaN        NaN        NaN        NaN        NaN   \n",
              "4           India        0.0        0.0        0.0        NaN        NaN   \n",
              "5           Japan  75.363518  75.923576  76.596039  75.941681  75.692436   \n",
              "6    South Africa        NaN        NaN        NaN        NaN        NaN   \n",
              "7       Sri Lanka        NaN        NaN        NaN        NaN        NaN   \n",
              "8  United Kingdom        NaN        NaN        NaN        NaN        NaN   \n",
              "9   United States  30.232559   31.34041        NaN   31.81818        NaN   \n",
              "\n",
              "        1976       1977       1978       1979  ...       2006       2007  \\\n",
              "1  18.816019   18.76877  19.001471  21.520741  ...  82.214394  76.055313   \n",
              "2    2.47142    2.57639    2.46426    2.53272  ...    5.82034     5.8204   \n",
              "3        NaN        NaN        NaN        NaN  ...  62.697632   63.44762   \n",
              "4        NaN        NaN        NaN        NaN  ...        NaN        NaN   \n",
              "5   75.10585  74.490334  74.193039  73.799019  ...  66.647926  67.364349   \n",
              "6        NaN        NaN        NaN        NaN  ...        NaN    5.64807   \n",
              "7        NaN        NaN        NaN        NaN  ...        NaN        NaN   \n",
              "8    5.39608        NaN        NaN        NaN  ...  29.042259        NaN   \n",
              "9    33.1064   31.89793  33.333328  35.416672  ...        NaN        NaN   \n",
              "\n",
              "        2008       2009       2010       2011       2012       2013  \\\n",
              "1  76.109612  76.181961  74.971039  75.488731  77.960312   63.19355   \n",
              "2    5.94721    7.04114    6.98907    6.66803    6.61498    6.78393   \n",
              "3  64.292572  64.387413  64.814934  65.148041  65.071739  65.302299   \n",
              "4        NaN        NaN        NaN        NaN        NaN  79.341537   \n",
              "5  68.186142  69.000183  69.618698  70.331718  71.319504  71.864059   \n",
              "6    5.36282    5.25834    5.82277    6.38362    6.09963    6.14065   \n",
              "7        NaN        NaN    1.52742    1.56085    2.66747    2.77128   \n",
              "8   29.47846   28.14855  20.978951   28.84973  37.463909  52.896641   \n",
              "9        NaN        NaN        NaN        NaN        NaN        NaN   \n",
              "\n",
              "        2014       2015  \n",
              "1  76.956863  79.417313  \n",
              "2        NaN        NaN  \n",
              "3  64.922462  64.761009  \n",
              "4  76.528137  74.440773  \n",
              "5  72.700996        NaN  \n",
              "6    6.25073        NaN  \n",
              "7    3.18726     3.1882  \n",
              "8  45.159859        NaN  \n",
              "9   40.94574  40.444901  \n",
              "\n",
              "[9 rows x 46 columns]"
            ],
            "text/html": [
              "\n",
              "  <div id=\"df-35d81422-6335-481b-a8e2-3c8b9c6baeb1\">\n",
              "    <div class=\"colab-df-container\">\n",
              "      <div>\n",
              "<style scoped>\n",
              "    .dataframe tbody tr th:only-of-type {\n",
              "        vertical-align: middle;\n",
              "    }\n",
              "\n",
              "    .dataframe tbody tr th {\n",
              "        vertical-align: top;\n",
              "    }\n",
              "\n",
              "    .dataframe thead th {\n",
              "        text-align: right;\n",
              "    }\n",
              "</style>\n",
              "<table border=\"1\" class=\"dataframe\">\n",
              "  <thead>\n",
              "    <tr style=\"text-align: right;\">\n",
              "      <th></th>\n",
              "      <th>Country Name</th>\n",
              "      <th>1971</th>\n",
              "      <th>1972</th>\n",
              "      <th>1973</th>\n",
              "      <th>1974</th>\n",
              "      <th>1975</th>\n",
              "      <th>1976</th>\n",
              "      <th>1977</th>\n",
              "      <th>1978</th>\n",
              "      <th>1979</th>\n",
              "      <th>...</th>\n",
              "      <th>2006</th>\n",
              "      <th>2007</th>\n",
              "      <th>2008</th>\n",
              "      <th>2009</th>\n",
              "      <th>2010</th>\n",
              "      <th>2011</th>\n",
              "      <th>2012</th>\n",
              "      <th>2013</th>\n",
              "      <th>2014</th>\n",
              "      <th>2015</th>\n",
              "    </tr>\n",
              "  </thead>\n",
              "  <tbody>\n",
              "    <tr>\n",
              "      <th>1</th>\n",
              "      <td>Australia</td>\n",
              "      <td>NaN</td>\n",
              "      <td>NaN</td>\n",
              "      <td>NaN</td>\n",
              "      <td>21.940889</td>\n",
              "      <td>19.49725</td>\n",
              "      <td>18.816019</td>\n",
              "      <td>18.76877</td>\n",
              "      <td>19.001471</td>\n",
              "      <td>21.520741</td>\n",
              "      <td>...</td>\n",
              "      <td>82.214394</td>\n",
              "      <td>76.055313</td>\n",
              "      <td>76.109612</td>\n",
              "      <td>76.181961</td>\n",
              "      <td>74.971039</td>\n",
              "      <td>75.488731</td>\n",
              "      <td>77.960312</td>\n",
              "      <td>63.19355</td>\n",
              "      <td>76.956863</td>\n",
              "      <td>79.417313</td>\n",
              "    </tr>\n",
              "    <tr>\n",
              "      <th>2</th>\n",
              "      <td>Canada</td>\n",
              "      <td>2.6436</td>\n",
              "      <td>2.35687</td>\n",
              "      <td>2.26478</td>\n",
              "      <td>2.00116</td>\n",
              "      <td>2.5621</td>\n",
              "      <td>2.47142</td>\n",
              "      <td>2.57639</td>\n",
              "      <td>2.46426</td>\n",
              "      <td>2.53272</td>\n",
              "      <td>...</td>\n",
              "      <td>5.82034</td>\n",
              "      <td>5.8204</td>\n",
              "      <td>5.94721</td>\n",
              "      <td>7.04114</td>\n",
              "      <td>6.98907</td>\n",
              "      <td>6.66803</td>\n",
              "      <td>6.61498</td>\n",
              "      <td>6.78393</td>\n",
              "      <td>NaN</td>\n",
              "      <td>NaN</td>\n",
              "    </tr>\n",
              "    <tr>\n",
              "      <th>3</th>\n",
              "      <td>Germany</td>\n",
              "      <td>NaN</td>\n",
              "      <td>NaN</td>\n",
              "      <td>NaN</td>\n",
              "      <td>NaN</td>\n",
              "      <td>NaN</td>\n",
              "      <td>NaN</td>\n",
              "      <td>NaN</td>\n",
              "      <td>NaN</td>\n",
              "      <td>NaN</td>\n",
              "      <td>...</td>\n",
              "      <td>62.697632</td>\n",
              "      <td>63.44762</td>\n",
              "      <td>64.292572</td>\n",
              "      <td>64.387413</td>\n",
              "      <td>64.814934</td>\n",
              "      <td>65.148041</td>\n",
              "      <td>65.071739</td>\n",
              "      <td>65.302299</td>\n",
              "      <td>64.922462</td>\n",
              "      <td>64.761009</td>\n",
              "    </tr>\n",
              "    <tr>\n",
              "      <th>4</th>\n",
              "      <td>India</td>\n",
              "      <td>0.0</td>\n",
              "      <td>0.0</td>\n",
              "      <td>0.0</td>\n",
              "      <td>NaN</td>\n",
              "      <td>NaN</td>\n",
              "      <td>NaN</td>\n",
              "      <td>NaN</td>\n",
              "      <td>NaN</td>\n",
              "      <td>NaN</td>\n",
              "      <td>...</td>\n",
              "      <td>NaN</td>\n",
              "      <td>NaN</td>\n",
              "      <td>NaN</td>\n",
              "      <td>NaN</td>\n",
              "      <td>NaN</td>\n",
              "      <td>NaN</td>\n",
              "      <td>NaN</td>\n",
              "      <td>79.341537</td>\n",
              "      <td>76.528137</td>\n",
              "      <td>74.440773</td>\n",
              "    </tr>\n",
              "    <tr>\n",
              "      <th>5</th>\n",
              "      <td>Japan</td>\n",
              "      <td>75.363518</td>\n",
              "      <td>75.923576</td>\n",
              "      <td>76.596039</td>\n",
              "      <td>75.941681</td>\n",
              "      <td>75.692436</td>\n",
              "      <td>75.10585</td>\n",
              "      <td>74.490334</td>\n",
              "      <td>74.193039</td>\n",
              "      <td>73.799019</td>\n",
              "      <td>...</td>\n",
              "      <td>66.647926</td>\n",
              "      <td>67.364349</td>\n",
              "      <td>68.186142</td>\n",
              "      <td>69.000183</td>\n",
              "      <td>69.618698</td>\n",
              "      <td>70.331718</td>\n",
              "      <td>71.319504</td>\n",
              "      <td>71.864059</td>\n",
              "      <td>72.700996</td>\n",
              "      <td>NaN</td>\n",
              "    </tr>\n",
              "    <tr>\n",
              "      <th>6</th>\n",
              "      <td>South Africa</td>\n",
              "      <td>NaN</td>\n",
              "      <td>NaN</td>\n",
              "      <td>NaN</td>\n",
              "      <td>NaN</td>\n",
              "      <td>NaN</td>\n",
              "      <td>NaN</td>\n",
              "      <td>NaN</td>\n",
              "      <td>NaN</td>\n",
              "      <td>NaN</td>\n",
              "      <td>...</td>\n",
              "      <td>NaN</td>\n",
              "      <td>5.64807</td>\n",
              "      <td>5.36282</td>\n",
              "      <td>5.25834</td>\n",
              "      <td>5.82277</td>\n",
              "      <td>6.38362</td>\n",
              "      <td>6.09963</td>\n",
              "      <td>6.14065</td>\n",
              "      <td>6.25073</td>\n",
              "      <td>NaN</td>\n",
              "    </tr>\n",
              "    <tr>\n",
              "      <th>7</th>\n",
              "      <td>Sri Lanka</td>\n",
              "      <td>NaN</td>\n",
              "      <td>NaN</td>\n",
              "      <td>NaN</td>\n",
              "      <td>NaN</td>\n",
              "      <td>NaN</td>\n",
              "      <td>NaN</td>\n",
              "      <td>NaN</td>\n",
              "      <td>NaN</td>\n",
              "      <td>NaN</td>\n",
              "      <td>...</td>\n",
              "      <td>NaN</td>\n",
              "      <td>NaN</td>\n",
              "      <td>NaN</td>\n",
              "      <td>NaN</td>\n",
              "      <td>1.52742</td>\n",
              "      <td>1.56085</td>\n",
              "      <td>2.66747</td>\n",
              "      <td>2.77128</td>\n",
              "      <td>3.18726</td>\n",
              "      <td>3.1882</td>\n",
              "    </tr>\n",
              "    <tr>\n",
              "      <th>8</th>\n",
              "      <td>United Kingdom</td>\n",
              "      <td>NaN</td>\n",
              "      <td>NaN</td>\n",
              "      <td>NaN</td>\n",
              "      <td>NaN</td>\n",
              "      <td>NaN</td>\n",
              "      <td>5.39608</td>\n",
              "      <td>NaN</td>\n",
              "      <td>NaN</td>\n",
              "      <td>NaN</td>\n",
              "      <td>...</td>\n",
              "      <td>29.042259</td>\n",
              "      <td>NaN</td>\n",
              "      <td>29.47846</td>\n",
              "      <td>28.14855</td>\n",
              "      <td>20.978951</td>\n",
              "      <td>28.84973</td>\n",
              "      <td>37.463909</td>\n",
              "      <td>52.896641</td>\n",
              "      <td>45.159859</td>\n",
              "      <td>NaN</td>\n",
              "    </tr>\n",
              "    <tr>\n",
              "      <th>9</th>\n",
              "      <td>United States</td>\n",
              "      <td>30.232559</td>\n",
              "      <td>31.34041</td>\n",
              "      <td>NaN</td>\n",
              "      <td>31.81818</td>\n",
              "      <td>NaN</td>\n",
              "      <td>33.1064</td>\n",
              "      <td>31.89793</td>\n",
              "      <td>33.333328</td>\n",
              "      <td>35.416672</td>\n",
              "      <td>...</td>\n",
              "      <td>NaN</td>\n",
              "      <td>NaN</td>\n",
              "      <td>NaN</td>\n",
              "      <td>NaN</td>\n",
              "      <td>NaN</td>\n",
              "      <td>NaN</td>\n",
              "      <td>NaN</td>\n",
              "      <td>NaN</td>\n",
              "      <td>40.94574</td>\n",
              "      <td>40.444901</td>\n",
              "    </tr>\n",
              "  </tbody>\n",
              "</table>\n",
              "<p>9 rows × 46 columns</p>\n",
              "</div>\n",
              "      <button class=\"colab-df-convert\" onclick=\"convertToInteractive('df-35d81422-6335-481b-a8e2-3c8b9c6baeb1')\"\n",
              "              title=\"Convert this dataframe to an interactive table.\"\n",
              "              style=\"display:none;\">\n",
              "        \n",
              "  <svg xmlns=\"http://www.w3.org/2000/svg\" height=\"24px\"viewBox=\"0 0 24 24\"\n",
              "       width=\"24px\">\n",
              "    <path d=\"M0 0h24v24H0V0z\" fill=\"none\"/>\n",
              "    <path d=\"M18.56 5.44l.94 2.06.94-2.06 2.06-.94-2.06-.94-.94-2.06-.94 2.06-2.06.94zm-11 1L8.5 8.5l.94-2.06 2.06-.94-2.06-.94L8.5 2.5l-.94 2.06-2.06.94zm10 10l.94 2.06.94-2.06 2.06-.94-2.06-.94-.94-2.06-.94 2.06-2.06.94z\"/><path d=\"M17.41 7.96l-1.37-1.37c-.4-.4-.92-.59-1.43-.59-.52 0-1.04.2-1.43.59L10.3 9.45l-7.72 7.72c-.78.78-.78 2.05 0 2.83L4 21.41c.39.39.9.59 1.41.59.51 0 1.02-.2 1.41-.59l7.78-7.78 2.81-2.81c.8-.78.8-2.07 0-2.86zM5.41 20L4 18.59l7.72-7.72 1.47 1.35L5.41 20z\"/>\n",
              "  </svg>\n",
              "      </button>\n",
              "      \n",
              "  <style>\n",
              "    .colab-df-container {\n",
              "      display:flex;\n",
              "      flex-wrap:wrap;\n",
              "      gap: 12px;\n",
              "    }\n",
              "\n",
              "    .colab-df-convert {\n",
              "      background-color: #E8F0FE;\n",
              "      border: none;\n",
              "      border-radius: 50%;\n",
              "      cursor: pointer;\n",
              "      display: none;\n",
              "      fill: #1967D2;\n",
              "      height: 32px;\n",
              "      padding: 0 0 0 0;\n",
              "      width: 32px;\n",
              "    }\n",
              "\n",
              "    .colab-df-convert:hover {\n",
              "      background-color: #E2EBFA;\n",
              "      box-shadow: 0px 1px 2px rgba(60, 64, 67, 0.3), 0px 1px 3px 1px rgba(60, 64, 67, 0.15);\n",
              "      fill: #174EA6;\n",
              "    }\n",
              "\n",
              "    [theme=dark] .colab-df-convert {\n",
              "      background-color: #3B4455;\n",
              "      fill: #D2E3FC;\n",
              "    }\n",
              "\n",
              "    [theme=dark] .colab-df-convert:hover {\n",
              "      background-color: #434B5C;\n",
              "      box-shadow: 0px 1px 3px 1px rgba(0, 0, 0, 0.15);\n",
              "      filter: drop-shadow(0px 1px 2px rgba(0, 0, 0, 0.3));\n",
              "      fill: #FFFFFF;\n",
              "    }\n",
              "  </style>\n",
              "\n",
              "      <script>\n",
              "        const buttonEl =\n",
              "          document.querySelector('#df-35d81422-6335-481b-a8e2-3c8b9c6baeb1 button.colab-df-convert');\n",
              "        buttonEl.style.display =\n",
              "          google.colab.kernel.accessAllowed ? 'block' : 'none';\n",
              "\n",
              "        async function convertToInteractive(key) {\n",
              "          const element = document.querySelector('#df-35d81422-6335-481b-a8e2-3c8b9c6baeb1');\n",
              "          const dataTable =\n",
              "            await google.colab.kernel.invokeFunction('convertToInteractive',\n",
              "                                                     [key], {});\n",
              "          if (!dataTable) return;\n",
              "\n",
              "          const docLinkHtml = 'Like what you see? Visit the ' +\n",
              "            '<a target=\"_blank\" href=https://colab.research.google.com/notebooks/data_table.ipynb>data table notebook</a>'\n",
              "            + ' to learn more about interactive tables.';\n",
              "          element.innerHTML = '';\n",
              "          dataTable['output_type'] = 'display_data';\n",
              "          await google.colab.output.renderOutput(dataTable, element);\n",
              "          const docLink = document.createElement('div');\n",
              "          docLink.innerHTML = docLinkHtml;\n",
              "          element.appendChild(docLink);\n",
              "        }\n",
              "      </script>\n",
              "    </div>\n",
              "  </div>\n",
              "  "
            ]
          },
          "metadata": {},
          "execution_count": 7
        }
      ]
    },
    {
      "cell_type": "markdown",
      "source": [
        "It is evident from the above table that our functions are working exactly as expected. The dataframe returned has all years as columns, that have at least one not-null value. Though the data still has a lot of 'NaN' values, but those we can handle later. \n",
        "\n",
        "Here we called get_rowwise_data() because it implicitly calls the get_columnwise_data() to get a columnwise data matric, then its converted to rowwise matric by further operation, this way we can test if both the functions are working as desired."
      ],
      "metadata": {
        "id": "pcLo4EloR5Lx"
      }
    },
    {
      "cell_type": "markdown",
      "source": [
        "###**Data-Cleaning**\n",
        "\n",
        "\n"
      ],
      "metadata": {
        "id": "9om2redHO21z"
      }
    },
    {
      "cell_type": "code",
      "source": [
        ""
      ],
      "metadata": {
        "id": "fU_XrG-de2Tc"
      },
      "execution_count": null,
      "outputs": []
    },
    {
      "cell_type": "code",
      "source": [
        ""
      ],
      "metadata": {
        "id": "og72bEhbe2fV"
      },
      "execution_count": null,
      "outputs": []
    },
    {
      "cell_type": "code",
      "source": [
        "# Since its a percentage(%) data hence we are extracting a row wise data such that \"Years\" would be columns and we can select columns asper requirement.\n"
      ],
      "metadata": {
        "id": "aHrRTEdNe2ix"
      },
      "execution_count": null,
      "outputs": []
    },
    {
      "cell_type": "code",
      "source": [
        "temp1, t1 = get_columnwise_data(Indicators[0])\n",
        "temp2, t2 = get_rowwise_data(Indicators[1])"
      ],
      "metadata": {
        "id": "680i9TuKY9_d"
      },
      "execution_count": null,
      "outputs": []
    },
    {
      "cell_type": "code",
      "source": [
        "temp1.plot(x = \"Year\", kind='line', title = t1, ylabel = \"Estimate Enrolment in Early Childhood Education\", ylim = (0, 1e7), figsize=(15,9), fontsize = 11, grid = True, linewidth = 2.5, marker = \"^\").patch.set_facecolor('#f0ffff')\n"
      ],
      "metadata": {
        "colab": {
          "base_uri": "https://localhost:8080/",
          "height": 567
        },
        "id": "3EwaEarbY-Ch",
        "outputId": "a156ab47-ea14-4193-d201-bf4a6a0f184b"
      },
      "execution_count": null,
      "outputs": [
        {
          "output_type": "display_data",
          "data": {
            "text/plain": [
              "<Figure size 1080x648 with 1 Axes>"
            ],
            "image/png": "[encoded data removed]"
          },
          "metadata": {
            "needs_background": "light"
          }
        }
      ]
    },
    {
      "cell_type": "code",
      "source": [
        "temp2.plot(x = \"Country Name\", y = [\"1985\",\"2000\",\"2015\"], xlabel = \"Countries\", ylabel = \"% of Enrolment\", kind='bar', title = t2, \n",
        "            figsize=(12,7), grid = True, colormap= \"cividis_r\",width = 0.8, fontsize=11).patch.set_facecolor('#f0ffff')\n"
      ],
      "metadata": {
        "colab": {
          "base_uri": "https://localhost:8080/",
          "height": 537
        },
        "id": "IepKeAjKY-Fl",
        "outputId": "5b5afbb2-b375-40cc-b82f-7e1ef882ffd2"
      },
      "execution_count": null,
      "outputs": [
        {
          "output_type": "display_data",
          "data": {
            "text/plain": [
              "<Figure size 864x504 with 1 Axes>"
            ],
            "image/png": "[encoded data removed]"
          },
          "metadata": {
            "needs_background": "light"
          }
        }
      ]
    },
    {
      "cell_type": "code",
      "source": [
        ""
      ],
      "metadata": {
        "id": "ckvRLkePY-H_"
      },
      "execution_count": null,
      "outputs": []
    },
    {
      "cell_type": "code",
      "source": [
        ""
      ],
      "metadata": {
        "id": "8IgXdOz1Y-KX"
      },
      "execution_count": null,
      "outputs": []
    },
    {
      "cell_type": "code",
      "source": [
        ""
      ],
      "metadata": {
        "id": "FYDV6ig-Y-M6"
      },
      "execution_count": null,
      "outputs": []
    },
    {
      "cell_type": "code",
      "source": [
        ""
      ],
      "metadata": {
        "id": "AiE0vfpiY-Pg"
      },
      "execution_count": null,
      "outputs": []
    },
    {
      "cell_type": "code",
      "source": [
        ""
      ],
      "metadata": {
        "id": "via8yVObY-SF"
      },
      "execution_count": null,
      "outputs": []
    },
    {
      "cell_type": "code",
      "source": [
        ""
      ],
      "metadata": {
        "id": "NdCkd6MoY-UX"
      },
      "execution_count": null,
      "outputs": []
    },
    {
      "cell_type": "code",
      "source": [
        ""
      ],
      "metadata": {
        "id": "dsUG3r8MY-Wi"
      },
      "execution_count": null,
      "outputs": []
    },
    {
      "cell_type": "code",
      "source": [
        ""
      ],
      "metadata": {
        "id": "jrFCRWNsY-Yc"
      },
      "execution_count": null,
      "outputs": []
    },
    {
      "cell_type": "code",
      "source": [
        ""
      ],
      "metadata": {
        "id": "jrMDH-5sY-ax"
      },
      "execution_count": null,
      "outputs": []
    },
    {
      "cell_type": "code",
      "source": [
        ""
      ],
      "metadata": {
        "id": "XJs2qGPgY-eW"
      },
      "execution_count": null,
      "outputs": []
    }
  ]
}